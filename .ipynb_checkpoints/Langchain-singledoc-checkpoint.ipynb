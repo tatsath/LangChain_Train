{
 "cells": [
  {
   "cell_type": "markdown",
   "id": "91a3f649",
   "metadata": {},
   "source": [
    "\"\"\"\n",
    "Document LangChainSearch\n",
    "\n",
    "\n",
    "\"\"\""
   ]
  },
  {
   "cell_type": "code",
   "execution_count": 1,
   "id": "dd37cf5d",
   "metadata": {},
   "outputs": [
    {
     "name": "stdout",
     "output_type": "stream",
     "text": [
      "Collecting pypdf\n",
      "  Downloading pypdf-3.8.1-py3-none-any.whl (248 kB)\n",
      "     -------------------------------------- 248.8/248.8 kB 2.6 MB/s eta 0:00:00\n",
      "Requirement already satisfied: typing_extensions>=3.10.0.0 in c:\\users\\tatsa\\anaconda3\\lib\\site-packages (from pypdf) (4.3.0)\n",
      "Installing collected packages: pypdf\n",
      "Successfully installed pypdf-3.8.1\n"
     ]
    }
   ],
   "source": [
    "!pip install pypdf"
   ]
  },
  {
   "cell_type": "code",
   "execution_count": 8,
   "id": "6e1e9fed",
   "metadata": {},
   "outputs": [
    {
     "name": "stdout",
     "output_type": "stream",
     "text": [
      "Collecting tiktoken\n",
      "  Downloading tiktoken-0.4.0-cp39-cp39-win_amd64.whl (635 kB)\n",
      "     -------------------------------------- 635.6/635.6 kB 3.3 MB/s eta 0:00:00\n",
      "Requirement already satisfied: requests>=2.26.0 in c:\\users\\tatsa\\anaconda3\\lib\\site-packages (from tiktoken) (2.27.1)\n",
      "Requirement already satisfied: regex>=2022.1.18 in c:\\users\\tatsa\\anaconda3\\lib\\site-packages (from tiktoken) (2022.7.9)\n",
      "Requirement already satisfied: certifi>=2017.4.17 in c:\\users\\tatsa\\anaconda3\\lib\\site-packages (from requests>=2.26.0->tiktoken) (2022.5.18.1)\n",
      "Requirement already satisfied: urllib3<1.27,>=1.21.1 in c:\\users\\tatsa\\anaconda3\\lib\\site-packages (from requests>=2.26.0->tiktoken) (1.26.5)\n",
      "Requirement already satisfied: charset-normalizer~=2.0.0 in c:\\users\\tatsa\\anaconda3\\lib\\site-packages (from requests>=2.26.0->tiktoken) (2.0.12)\n",
      "Requirement already satisfied: idna<4,>=2.5 in c:\\users\\tatsa\\anaconda3\\lib\\site-packages (from requests>=2.26.0->tiktoken) (3.3)\n",
      "Installing collected packages: tiktoken\n",
      "Successfully installed tiktoken-0.4.0\n"
     ]
    }
   ],
   "source": [
    "!pip install tiktoken"
   ]
  },
  {
   "cell_type": "code",
   "execution_count": 11,
   "id": "8a5546cf",
   "metadata": {},
   "outputs": [],
   "source": [
    "from langchain.vectorstores import FAISS\n",
    "from langchain.embeddings.openai import OpenAIEmbeddings"
   ]
  },
  {
   "cell_type": "code",
   "execution_count": 2,
   "id": "e32c737d",
   "metadata": {
    "scrolled": true
   },
   "outputs": [
    {
     "name": "stdout",
     "output_type": "stream",
     "text": [
      "Collecting langchain\n",
      "  Using cached langchain-0.0.174-py3-none-any.whl (869 kB)\n",
      "Requirement already satisfied: openapi-schema-pydantic<2.0,>=1.2 in c:\\users\\tatsa\\anaconda3\\lib\\site-packages (from langchain) (1.2.4)\n",
      "Requirement already satisfied: aiohttp<4.0.0,>=3.8.3 in c:\\users\\tatsa\\anaconda3\\lib\\site-packages (from langchain) (3.8.4)\n",
      "Collecting dataclasses-json<0.6.0,>=0.5.7\n",
      "  Using cached dataclasses_json-0.5.7-py3-none-any.whl (25 kB)\n",
      "Requirement already satisfied: SQLAlchemy<3,>=1.4 in c:\\users\\tatsa\\anaconda3\\lib\\site-packages (from langchain) (1.4.39)\n",
      "Requirement already satisfied: async-timeout<5.0.0,>=4.0.0 in c:\\users\\tatsa\\anaconda3\\lib\\site-packages (from langchain) (4.0.2)\n",
      "Requirement already satisfied: pydantic<2,>=1 in c:\\users\\tatsa\\anaconda3\\lib\\site-packages (from langchain) (1.10.2)\n",
      "Requirement already satisfied: tenacity<9.0.0,>=8.1.0 in c:\\users\\tatsa\\anaconda3\\lib\\site-packages (from langchain) (8.2.2)\n",
      "Requirement already satisfied: PyYAML>=5.4.1 in c:\\users\\tatsa\\anaconda3\\lib\\site-packages (from langchain) (6.0)\n",
      "Requirement already satisfied: requests<3,>=2 in c:\\users\\tatsa\\anaconda3\\lib\\site-packages (from langchain) (2.27.1)\n",
      "Requirement already satisfied: numpy<2,>=1 in c:\\users\\tatsa\\anaconda3\\lib\\site-packages (from langchain) (1.21.2)\n",
      "Requirement already satisfied: numexpr<3.0.0,>=2.8.4 in c:\\users\\tatsa\\anaconda3\\lib\\site-packages (from langchain) (2.8.4)\n",
      "Requirement already satisfied: attrs>=17.3.0 in c:\\users\\tatsa\\anaconda3\\lib\\site-packages (from aiohttp<4.0.0,>=3.8.3->langchain) (21.4.0)\n",
      "Requirement already satisfied: charset-normalizer<4.0,>=2.0 in c:\\users\\tatsa\\anaconda3\\lib\\site-packages (from aiohttp<4.0.0,>=3.8.3->langchain) (2.0.12)\n",
      "Requirement already satisfied: frozenlist>=1.1.1 in c:\\users\\tatsa\\anaconda3\\lib\\site-packages (from aiohttp<4.0.0,>=3.8.3->langchain) (1.3.1)\n",
      "Requirement already satisfied: yarl<2.0,>=1.0 in c:\\users\\tatsa\\anaconda3\\lib\\site-packages (from aiohttp<4.0.0,>=3.8.3->langchain) (1.8.1)\n",
      "Requirement already satisfied: aiosignal>=1.1.2 in c:\\users\\tatsa\\anaconda3\\lib\\site-packages (from aiohttp<4.0.0,>=3.8.3->langchain) (1.2.0)\n",
      "Requirement already satisfied: multidict<7.0,>=4.5 in c:\\users\\tatsa\\anaconda3\\lib\\site-packages (from aiohttp<4.0.0,>=3.8.3->langchain) (6.0.2)\n",
      "Collecting marshmallow-enum<2.0.0,>=1.5.1\n",
      "  Using cached marshmallow_enum-1.5.1-py2.py3-none-any.whl (4.2 kB)\n",
      "Requirement already satisfied: marshmallow<4.0.0,>=3.3.0 in c:\\users\\tatsa\\anaconda3\\lib\\site-packages (from dataclasses-json<0.6.0,>=0.5.7->langchain) (3.19.0)\n",
      "Requirement already satisfied: typing-inspect>=0.4.0 in c:\\users\\tatsa\\anaconda3\\lib\\site-packages (from dataclasses-json<0.6.0,>=0.5.7->langchain) (0.8.0)\n",
      "Requirement already satisfied: typing-extensions>=4.1.0 in c:\\users\\tatsa\\anaconda3\\lib\\site-packages (from pydantic<2,>=1->langchain) (4.3.0)\n",
      "Requirement already satisfied: urllib3<1.27,>=1.21.1 in c:\\users\\tatsa\\anaconda3\\lib\\site-packages (from requests<3,>=2->langchain) (1.26.5)\n",
      "Requirement already satisfied: certifi>=2017.4.17 in c:\\users\\tatsa\\anaconda3\\lib\\site-packages (from requests<3,>=2->langchain) (2022.5.18.1)\n",
      "Requirement already satisfied: idna<4,>=2.5 in c:\\users\\tatsa\\anaconda3\\lib\\site-packages (from requests<3,>=2->langchain) (3.3)\n",
      "Requirement already satisfied: greenlet!=0.4.17 in c:\\users\\tatsa\\anaconda3\\lib\\site-packages (from SQLAlchemy<3,>=1.4->langchain) (1.1.3)\n",
      "Requirement already satisfied: packaging>=17.0 in c:\\users\\tatsa\\anaconda3\\lib\\site-packages (from marshmallow<4.0.0,>=3.3.0->dataclasses-json<0.6.0,>=0.5.7->langchain) (21.3)\n",
      "Requirement already satisfied: mypy-extensions>=0.3.0 in c:\\users\\tatsa\\anaconda3\\lib\\site-packages (from typing-inspect>=0.4.0->dataclasses-json<0.6.0,>=0.5.7->langchain) (0.4.3)\n",
      "Requirement already satisfied: pyparsing!=3.0.5,>=2.0.2 in c:\\users\\tatsa\\anaconda3\\lib\\site-packages (from packaging>=17.0->marshmallow<4.0.0,>=3.3.0->dataclasses-json<0.6.0,>=0.5.7->langchain) (3.0.9)\n",
      "Installing collected packages: marshmallow-enum, dataclasses-json, langchain\n",
      "Successfully installed dataclasses-json-0.5.7 langchain-0.0.174 marshmallow-enum-1.5.1\n"
     ]
    }
   ],
   "source": [
    "!pip install langchain"
   ]
  },
  {
   "cell_type": "code",
   "execution_count": 3,
   "id": "9ad83140",
   "metadata": {},
   "outputs": [
    {
     "name": "stderr",
     "output_type": "stream",
     "text": [
      "Could not import azure.core python package.\n"
     ]
    }
   ],
   "source": [
    "from langchain.document_loaders import PyPDFLoader"
   ]
  },
  {
   "cell_type": "code",
   "execution_count": 4,
   "id": "0ddb43b7",
   "metadata": {},
   "outputs": [],
   "source": [
    "loader = PyPDFLoader(\"Data/Book.pdf\")\n",
    "pages = loader.load_and_split()"
   ]
  },
  {
   "cell_type": "code",
   "execution_count": 5,
   "id": "7215a5cd",
   "metadata": {},
   "outputs": [
    {
     "data": {
      "text/plain": [
       "Document(page_content='Hariom Tatsat, Sahil Puri  \\n & Brad Lookabaugh\\nMachine Learning \\n& Data Science \\nBlueprints  \\nfor Finance\\nFrom Building Trading Strategies to  \\nRobo-Advisors Using Python', metadata={'source': 'Data/Book.pdf', 'page': 0})"
      ]
     },
     "execution_count": 5,
     "metadata": {},
     "output_type": "execute_result"
    }
   ],
   "source": [
    "pages[0]"
   ]
  },
  {
   "cell_type": "code",
   "execution_count": 6,
   "id": "4861e9d8",
   "metadata": {},
   "outputs": [
    {
     "name": "stdout",
     "output_type": "stream",
     "text": [
      "OpenAI API Key:········\n"
     ]
    }
   ],
   "source": [
    "import os\n",
    "import getpass\n",
    "\n",
    "os.environ['OPENAI_API_KEY'] = getpass.getpass('OpenAI API Key:')"
   ]
  },
  {
   "cell_type": "code",
   "execution_count": 16,
   "id": "20c6bfa6",
   "metadata": {},
   "outputs": [
    {
     "name": "stdout",
     "output_type": "stream",
     "text": [
      "199: In this case study, we will focus on:\n",
      "•Building a trading strategy using classification (classification of long/short sig‐\n",
      "nals).\n",
      "•Feature engineering and constructing technical indicators of trend, momentum,\n",
      "and mean reversion.\n",
      "•Building a framework for backtesting results of a trading strategy.\n",
      "•Choosing the right evaluation metric to assess a trading strategy.\n",
      "Blueprint for Using Classification-Based Models to Predict\n",
      "Whether to Buy or Sell in the Bitcoin Market\n",
      "1. Problem definition\n",
      "The problem of predicting a buy or sell signal for a trading strategy is defined in the\n",
      "classification framework, where the predicted variable has a value of 1 for buy and 0\n",
      "for sell. This signal is decided through the comparison of the short-term and long-\n",
      "term price trends.\n",
      "The data used is from one of the largest bitcoin exchanges in terms of average daily\n",
      "volume, Bitstamp . The data covers prices from January 2012 to May 2017. Different\n",
      "trend and momentum indicators are created from the data and are\n",
      "198: Conclusion\n",
      "In this case study, we introduced the classification-based tree algorithm applied to\n",
      "loan default prediction. We showed that data preparation is one of the most impor‐\n",
      "tant steps. We addressed this by performing feature elimination using different tech‐\n",
      "niques, such as feature intuition, correlation analysis, visualization, and data quality\n",
      "checks of the features. We illustrated that there can be different ways of handling and\n",
      "analyzing the categorical data and converting categorical data into a usable format for\n",
      "the models.\n",
      "We emphasized that performing data processing and establishing an understanding\n",
      "of variable importance is key in the model development process. A focus on these\n",
      "steps led to the implementation of a simple classification-based model that produced\n",
      "robust results for default prediction.\n",
      "Case Study 3: Bitcoin Trading Strategy\n",
      "First released as open source in 2009 by the pseudonymous Satoshi Nakamoto, bit‐\n",
      "coin is the longest-running and most well-known crypt\n"
     ]
    }
   ],
   "source": [
    "faiss_index = FAISS.from_documents(pages, OpenAIEmbeddings())\n",
    "docs = faiss_index.similarity_search(\"What is the conclusion of bitcoin trading strategy\", k=2)\n",
    "for doc in docs:\n",
    "    print(str(doc.metadata[\"page\"]) + \":\", doc.page_content[:1000])"
   ]
  }
 ],
 "metadata": {
  "kernelspec": {
   "display_name": "Python 3 (ipykernel)",
   "language": "python",
   "name": "python3"
  },
  "language_info": {
   "codemirror_mode": {
    "name": "ipython",
    "version": 3
   },
   "file_extension": ".py",
   "mimetype": "text/x-python",
   "name": "python",
   "nbconvert_exporter": "python",
   "pygments_lexer": "ipython3",
   "version": "3.9.13"
  }
 },
 "nbformat": 4,
 "nbformat_minor": 5
}
